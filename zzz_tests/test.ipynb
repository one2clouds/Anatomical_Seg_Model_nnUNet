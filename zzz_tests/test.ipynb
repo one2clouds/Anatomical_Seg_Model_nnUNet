{
 "cells": [
  {
   "cell_type": "code",
   "execution_count": 34,
   "metadata": {},
   "outputs": [],
   "source": [
    "import SimpleITK as sitk \n",
    "import glob "
   ]
  },
  {
   "cell_type": "code",
   "execution_count": 35,
   "metadata": {},
   "outputs": [
    {
     "data": {
      "text/plain": [
       "2775"
      ]
     },
     "execution_count": 35,
     "metadata": {},
     "output_type": "execute_result"
    }
   ],
   "source": [
    "sitk.GetArrayFromImage(sitk.ReadImage(sorted(glob.glob(\"/mnt/Enterprise2/shirshak/PENGWIN_TASK/PENGWIN_CT/part*/*.mha\"))[0])).min()\n",
    "sitk.GetArrayFromImage(sitk.ReadImage(sorted(glob.glob(\"/mnt/Enterprise2/shirshak/PENGWIN_TASK/PENGWIN_CT/part*/*.mha\"))[0])).max()\n"
   ]
  },
  {
   "cell_type": "code",
   "execution_count": 12,
   "metadata": {},
   "outputs": [
    {
     "data": {
      "text/plain": [
       "(401, 512, 512)"
      ]
     },
     "execution_count": 12,
     "metadata": {},
     "output_type": "execute_result"
    }
   ],
   "source": [
    "sitk.GetArrayFromImage(sitk.ReadImage(sorted(glob.glob(\"/mnt/Enterprise2/shirshak/PENGWIN_TASK/PENGWIN_CT/part*/*.mha\"))[0])).shape"
   ]
  },
  {
   "cell_type": "code",
   "execution_count": null,
   "metadata": {},
   "outputs": [],
   "source": [
    "sitk.GetArrayFromImage(sitk.ReadImage(sorted(glob.glob(\"/mnt/Enterprise2/shirshak/PENGWIN_TASK/PENGWIN_CT/part*/*.mha\"))[0]))"
   ]
  },
  {
   "cell_type": "code",
   "execution_count": 36,
   "metadata": {},
   "outputs": [],
   "source": [
    "filtered_image = sitk.Normalize(sitk.ReadImage(sorted(glob.glob(\"/mnt/Enterprise2/shirshak/PENGWIN_TASK/PENGWIN_CT/part*/*.mha\"))[0]))"
   ]
  },
  {
   "cell_type": "code",
   "execution_count": 37,
   "metadata": {},
   "outputs": [
    {
     "data": {
      "text/plain": [
       "-1.0389507129104205"
      ]
     },
     "execution_count": 37,
     "metadata": {},
     "output_type": "execute_result"
    }
   ],
   "source": [
    "sitk.GetArrayFromImage(filtered_image).max()\n",
    "sitk.GetArrayFromImage(filtered_image).min()"
   ]
  },
  {
   "cell_type": "code",
   "execution_count": 40,
   "metadata": {},
   "outputs": [
    {
     "data": {
      "text/plain": [
       "'LPS'"
      ]
     },
     "execution_count": 40,
     "metadata": {},
     "output_type": "execute_result"
    }
   ],
   "source": [
    "sitk.DICOMOrientImageFilter_GetOrientationFromDirectionCosines(filtered_image.GetDirection())"
   ]
  },
  {
   "cell_type": "code",
   "execution_count": 41,
   "metadata": {},
   "outputs": [
    {
     "data": {
      "text/plain": [
       "<SimpleITK.SimpleITK.Image; proxy of <Swig Object of type 'itk::simple::Image *' at 0x7ff978334210> >"
      ]
     },
     "execution_count": 41,
     "metadata": {},
     "output_type": "execute_result"
    }
   ],
   "source": [
    "sitk.DICOMOrient(filtered_image,'RAS')"
   ]
  },
  {
   "cell_type": "code",
   "execution_count": null,
   "metadata": {},
   "outputs": [],
   "source": []
  },
  {
   "cell_type": "code",
   "execution_count": 3,
   "metadata": {},
   "outputs": [],
   "source": [
    "import torch \n",
    "import glob\n",
    "import SimpleITK as sitk "
   ]
  },
  {
   "cell_type": "code",
   "execution_count": 4,
   "metadata": {},
   "outputs": [],
   "source": [
    "# def change_direction(orig_image, new_img):\n",
    "#     if sitk.DICOMOrientImageFilter_GetOrientationFromDirectionCosines(orig_image.GetDirection()) == 'LPS':\n",
    "#         new_img = sitk.DICOMOrient(orig_image,'RAS')\n",
    "#     elif sitk.DICOMOrientImageFilter_GetOrientationFromDirectionCosines(orig_image.GetDirection()) == 'RAS':\n",
    "#         new_img.SetDirection(orig_image.GetDirection())\n",
    "#     else:\n",
    "#         print('Error while changing the direction of image')\n",
    "#         print(KeyError)\n",
    "#     return new_img"
   ]
  },
  {
   "cell_type": "code",
   "execution_count": 5,
   "metadata": {},
   "outputs": [],
   "source": [
    "def change_direction(orig_image):\n",
    "    new_img = sitk.DICOMOrient(orig_image,'RAS')\n",
    "    return new_img"
   ]
  },
  {
   "cell_type": "code",
   "execution_count": 6,
   "metadata": {},
   "outputs": [
    {
     "name": "stdout",
     "output_type": "stream",
     "text": [
      "RAS\n",
      "RAS\n"
     ]
    }
   ],
   "source": [
    "img_name = sorted(glob.glob(\"/mnt/Enterprise2/shirshak/PENGWIN_TASK/PENGWIN_CT/part*/*.mha\"))[1]\n",
    "\n",
    "ct_scale_img = sitk.ReadImage(img_name)\n",
    "print(sitk.DICOMOrientImageFilter_GetOrientationFromDirectionCosines(ct_scale_img.GetDirection()))\n",
    "\n",
    "new_img = sitk.GetImageFromArray(sitk.GetArrayFromImage(ct_scale_img))\n",
    "\n",
    "new_image = change_direction(ct_scale_img)\n",
    "\n",
    "print(sitk.DICOMOrientImageFilter_GetOrientationFromDirectionCosines(new_image.GetDirection()))"
   ]
  },
  {
   "cell_type": "code",
   "execution_count": 7,
   "metadata": {},
   "outputs": [
    {
     "name": "stdout",
     "output_type": "stream",
     "text": [
      "/mnt/Enterprise2/shirshak/PENGWIN_TASK/PENGWIN_CT/part1/002.mha\n"
     ]
    }
   ],
   "source": [
    "print(img_name)"
   ]
  },
  {
   "cell_type": "code",
   "execution_count": 8,
   "metadata": {},
   "outputs": [],
   "source": [
    "sitk.WriteImage(ct_scale_img, '/home/shirshak/Anatomical_Segmentation_Frac-Seg-Net/zzz_tests/original.mha')\n",
    "sitk.WriteImage(new_image,'/home/shirshak/Anatomical_Segmentation_Frac-Seg-Net/zzz_tests/changed.mha')"
   ]
  },
  {
   "cell_type": "code",
   "execution_count": 9,
   "metadata": {},
   "outputs": [
    {
     "data": {
      "text/plain": [
       "(-1.0, 0.0, 0.0, 0.0, -1.0, 0.0, 0.0, 0.0, 1.0)"
      ]
     },
     "execution_count": 9,
     "metadata": {},
     "output_type": "execute_result"
    }
   ],
   "source": [
    "new_image.GetDirection()"
   ]
  },
  {
   "cell_type": "code",
   "execution_count": null,
   "metadata": {},
   "outputs": [],
   "source": []
  },
  {
   "cell_type": "code",
   "execution_count": null,
   "metadata": {},
   "outputs": [],
   "source": []
  }
 ],
 "metadata": {
  "kernelspec": {
   "display_name": ".venv",
   "language": "python",
   "name": "python3"
  },
  "language_info": {
   "codemirror_mode": {
    "name": "ipython",
    "version": 3
   },
   "file_extension": ".py",
   "mimetype": "text/x-python",
   "name": "python",
   "nbconvert_exporter": "python",
   "pygments_lexer": "ipython3",
   "version": "3.10.12"
  }
 },
 "nbformat": 4,
 "nbformat_minor": 2
}
